{
 "cells": [
  {
   "cell_type": "code",
   "execution_count": 33,
   "id": "9000f986-70c2-419a-8b35-54cb99aef89c",
   "metadata": {},
   "outputs": [
    {
     "name": "stdout",
     "output_type": "stream",
     "text": [
      "Requirement already satisfied: pynput in c:\\users\\2023a\\anaconda3\\envs\\mp_env\\lib\\site-packages (1.8.1)\n",
      "Requirement already satisfied: six in c:\\users\\2023a\\appdata\\roaming\\python\\python311\\site-packages (from pynput) (1.17.0)\n"
     ]
    }
   ],
   "source": [
    "#!pip install mediapipe\n",
    "# !pip install pyautogui\n",
    "!pip install pynput"
   ]
  },
  {
   "cell_type": "code",
   "execution_count": 34,
   "id": "e6d202fa-08d5-41e8-8f32-f707fc61c2ec",
   "metadata": {},
   "outputs": [],
   "source": [
    "import cv2\n",
    "import mediapipe as mp\n",
    "import util\n",
    "import pyautogui\n",
    "import numpy as np\n",
    "import random\n",
    "\n",
    "from pynput.mouse import Button,Controller\n",
    "mouse=Controller()"
   ]
  },
  {
   "cell_type": "code",
   "execution_count": 35,
   "id": "ab5571f4-0b1a-4254-b827-161b10be7c48",
   "metadata": {},
   "outputs": [],
   "source": [
    "# Get screen size\n",
    "screen_width, screen_height = pyautogui.size()\n",
    "\n",
    "# Initialize MediaPipe Hands\n",
    "mpHands = mp.solutions.hands\n",
    "hands = mpHands.Hands(\n",
    "    static_image_mode=False,\n",
    "    model_complexity=1,\n",
    "    min_detection_confidence=0.7,\n",
    "    min_tracking_confidence=0.7,\n",
    "    max_num_hands=1\n",
    ")\n"
   ]
  },
  {
   "cell_type": "code",
   "execution_count": 36,
   "id": "58ae73c9-b722-48b0-b9b5-26bad2ac79bb",
   "metadata": {},
   "outputs": [],
   "source": [
    "def find_finger_tip(processed):\n",
    "    \"\"\"Get index finger tip landmark.\"\"\"\n",
    "    if processed.multi_hand_landmarks:\n",
    "        hand_landmarks = processed.multi_hand_landmarks[0]\n",
    "        return hand_landmarks.landmark[mpHands.HandLandmark.INDEX_FINGER_TIP]\n",
    "        \n",
    "    return None"
   ]
  },
  {
   "cell_type": "code",
   "execution_count": 37,
   "id": "e973a943-9ce3-40dc-a060-3d3cbfe82458",
   "metadata": {},
   "outputs": [],
   "source": [
    "def move_mouse(index_finger_tip):\n",
    "    \"\"\"Move mouse pointer to index finger position.\"\"\"\n",
    "    if index_finger_tip is not None:\n",
    "        x = int(index_finger_tip.x * screen_width)\n",
    "        y = int(index_finger_tip.y * screen_height)\n",
    "        pyautogui.moveTo(x, y)"
   ]
  },
  {
   "cell_type": "code",
   "execution_count": 38,
   "id": "9c520e83-62bb-4d14-84be-3a165bc61298",
   "metadata": {},
   "outputs": [],
   "source": [
    "def is_left_click(landmarks_list, thumb_index_dist):\n",
    "    return (\n",
    "        util.get_angle(landmarks_list[5], landmarks_list[6], landmarks_list[8]) < 50 and\n",
    "        util.get_angle(landmarks_list[9], landmarks_list[10], landmarks_list[12]) > 90 and\n",
    "        thumb_index_dist > 50\n",
    "    )\n",
    "\n",
    "def is_right_click(landmarks_list, thumb_index_dist):\n",
    "    return (\n",
    "        util.get_angle(landmarks_list[9], landmarks_list[10], landmarks_list[12]) < 50 and\n",
    "        util.get_angle(landmarks_list[5], landmarks_list[6], landmarks_list[8]) > 90 and\n",
    "        thumb_index_dist > 50\n",
    "    )\n",
    "\n",
    "def is_double_click(landmarks_list, thumb_index_dist):\n",
    "    return (\n",
    "        util.get_angle(landmarks_list[5], landmarks_list[6], landmarks_list[8]) < 50 and\n",
    "        util.get_angle(landmarks_list[9], landmarks_list[10], landmarks_list[12]) < 50 and\n",
    "        thumb_index_dist > 50\n",
    "    )\n",
    "\n",
    "def is_screenshot(landmarks_list, thumb_index_dist):\n",
    "    return (\n",
    "        util.get_angle(landmarks_list[5], landmarks_list[6], landmarks_list[8]) < 50 and\n",
    "        util.get_angle(landmarks_list[9], landmarks_list[10], landmarks_list[12]) < 50 and\n",
    "        thumb_index_dist < 50\n",
    "    )\n"
   ]
  },
  {
   "cell_type": "code",
   "execution_count": 39,
   "id": "674ec0f2-fd9f-40a2-909f-c6b059bc0bdd",
   "metadata": {},
   "outputs": [],
   "source": [
    "# -------------------\n",
    "# Gesture detection\n",
    "# -------------------\n",
    "def detect_gestures(frame,landmarks_list, processed):\n",
    "    if len(landmarks_list)>=21:\n",
    "\n",
    "        index_finger_tip=find_finger_tip(processed)\n",
    "        thumb_index_dist=util.get_distance([landmarks_list[4],landmarks_list[5]])\n",
    "\n",
    "        if thumb_index_dist< 50 and util.get_angle(landmarks_list[5],landmarks_list[6],landmarks_list[8])>90:\n",
    "            move_mouse(index_finger_tip)\n",
    "\n",
    "\n",
    "        ## Left Click\n",
    "        elif is_left_click(landmarks_list,thumb_index_dist):\n",
    "            mouse.press(Button.left)\n",
    "            mouse.release(Button.left)\n",
    "            cv2.putText(frame,\"Left Click\",(50,50),cv2.FONT_HERSHEY_SIMPLEX,1,(0,255,0),2)\n",
    "\n",
    "        ## Right Click\n",
    "        elif is_right_click(landmarks_list,thumb_index_dist):\n",
    "            mouse.press(Button.right)\n",
    "            mouse.release(Button.right)\n",
    "            cv2.putText(frame,\"Right Click\",(50,50),cv2.FONT_HERSHEY_SIMPLEX,1,(0,0,255),2)\n",
    "\n",
    "        ## Double Click\n",
    "        elif is_double_click(landmarks_list,thumb_index_dist):\n",
    "            pyautogui.doubleClick()\n",
    "            cv2.putText(frame,\"Double Click\",(50,50),cv2.FONT_HERSHEY_SIMPLEX,1,(255,255,0),2)\n",
    "\n",
    "        ## Screenshot\n",
    "        elif is_screenshot(landmarks_list,thumb_index_dist):\n",
    "            im1=pyautogui.screenshot()\n",
    "            label=random.randint(1,1000)\n",
    "            im1.save(f'my_screenshot_{label}.png')\n",
    "            cv2.putText(frame,\"Screenshot Taken\",(50,50),cv2.FONT_HERSHEY_SIMPLEX,1,(255,255,0),2)\n",
    "            \n"
   ]
  },
  {
   "cell_type": "code",
   "execution_count": 40,
   "id": "ce4b780d-7d46-483a-accd-acb5ab6f0c48",
   "metadata": {
    "scrolled": true
   },
   "outputs": [],
   "source": [
    "# -------------------\n",
    "# Main loop\n",
    "# -------------------\n",
    "def main():\n",
    "    cap = cv2.VideoCapture(0)\n",
    "    draw=mp.solutions.drawing_utils\n",
    "    try:\n",
    "        while cap.isOpened():\n",
    "            ret, frame = cap.read()\n",
    "            if not ret:\n",
    "                break\n",
    "\n",
    "            # Mirror the frame\n",
    "            frame = cv2.flip(frame, 1)\n",
    "            frame_rgb = cv2.cvtColor(frame, cv2.COLOR_BGR2RGB)\n",
    "\n",
    "            # Process with MediaPipe\n",
    "            processed = hands.process(frame_rgb)\n",
    "\n",
    "            # Store landmarks in a list (normalized coords)\n",
    "            landmarks_list = []\n",
    "            if processed.multi_hand_landmarks:\n",
    "                hand_landmarks = processed.multi_hand_landmarks[0]\n",
    "                draw.draw_landmarks(frame, hand_landmarks, mpHands.HAND_CONNECTIONS)\n",
    "                for lm in hand_landmarks.landmark:\n",
    "                    landmarks_list.append((lm.x, lm.y))\n",
    "\n",
    "            # Detect gestures and move mouse\n",
    "            detect_gestures(frame,landmarks_list, processed)\n",
    "\n",
    "            cv2.imshow('Frame', frame)\n",
    "            if cv2.waitKey(1) & 0xFF == ord('q'):\n",
    "                break\n",
    "    finally:\n",
    "        cap.release()\n",
    "        cv2.destroyAllWindows()\n",
    "\n",
    "if __name__ == '__main__':\n",
    "    main()"
   ]
  },
  {
   "cell_type": "code",
   "execution_count": null,
   "id": "21a2f8ce-ce31-49b7-a66d-40a4d20da86c",
   "metadata": {},
   "outputs": [],
   "source": []
  },
  {
   "cell_type": "code",
   "execution_count": null,
   "id": "f5c175ac-3872-4982-ba4d-2b12bf5a6e15",
   "metadata": {},
   "outputs": [],
   "source": []
  },
  {
   "cell_type": "code",
   "execution_count": null,
   "id": "549d026b-dd6d-46bf-aa76-b3dcf0444deb",
   "metadata": {},
   "outputs": [],
   "source": []
  },
  {
   "cell_type": "code",
   "execution_count": null,
   "id": "f95b7d99-000d-44d8-8b89-bb8725e5bc9a",
   "metadata": {},
   "outputs": [],
   "source": []
  },
  {
   "cell_type": "code",
   "execution_count": null,
   "id": "c11e6bb9-ca65-446c-afa1-02c98d78b14c",
   "metadata": {},
   "outputs": [],
   "source": []
  },
  {
   "cell_type": "code",
   "execution_count": null,
   "id": "9dde91a3-f638-440f-94cc-27430a4d5eef",
   "metadata": {},
   "outputs": [],
   "source": []
  },
  {
   "cell_type": "code",
   "execution_count": null,
   "id": "1873b1ad-b9dd-4328-84ac-c82fbb5386be",
   "metadata": {},
   "outputs": [],
   "source": []
  },
  {
   "cell_type": "code",
   "execution_count": null,
   "id": "19fe4927-6502-4815-bad1-dd71f6a60dc6",
   "metadata": {},
   "outputs": [],
   "source": []
  },
  {
   "cell_type": "code",
   "execution_count": null,
   "id": "d36d3d20-6276-4243-ba84-569db47135c8",
   "metadata": {},
   "outputs": [],
   "source": []
  },
  {
   "cell_type": "code",
   "execution_count": null,
   "id": "8859d914-b070-45f3-9eee-383f6489abb0",
   "metadata": {},
   "outputs": [],
   "source": []
  },
  {
   "cell_type": "code",
   "execution_count": null,
   "id": "92cf0587-39be-40db-9706-d52cb5038e3b",
   "metadata": {},
   "outputs": [],
   "source": []
  },
  {
   "cell_type": "code",
   "execution_count": null,
   "id": "11c552d9-9c65-44a8-bd53-21dc1db5696b",
   "metadata": {},
   "outputs": [],
   "source": []
  }
 ],
 "metadata": {
  "kernelspec": {
   "display_name": "Python 3 (ipykernel)",
   "language": "python",
   "name": "python3"
  },
  "language_info": {
   "codemirror_mode": {
    "name": "ipython",
    "version": 3
   },
   "file_extension": ".py",
   "mimetype": "text/x-python",
   "name": "python",
   "nbconvert_exporter": "python",
   "pygments_lexer": "ipython3",
   "version": "3.11.13"
  }
 },
 "nbformat": 4,
 "nbformat_minor": 5
}
